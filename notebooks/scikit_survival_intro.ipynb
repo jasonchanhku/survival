{
 "cells": [
  {
   "cell_type": "markdown",
   "metadata": {},
   "source": [
    "# Survival Analysis with Scikit Survival\n",
    "\n",
    "scikit-survival is a Python module for survival analysis built on top of scikit-learn. It allows doing survival analysis while utilizing the power of scikit-learn, e.g., for pre-processing or doing cross-validation."
   ]
  },
  {
   "cell_type": "markdown",
   "metadata": {},
   "source": [
    "# Dataset\n",
    "\n",
    "## The Veterans' Administration Lung Cancer Trial\n",
    "\n",
    "The Veterans' Administration Lung Cancer Trial is a randomized trial of two treatment regimens for lung cancer. The data set (Kalbfleisch J. and Prentice R, (1980) The Statistical Analysis of Failure Time Data. New York: Wiley) consists of 137 patients and 8 variables, which are discribed below:\n",
    "\n",
    "* Treatment: denotes the type of lung cancer treatment; standard and test drug.\n",
    "* Celltype: denotes the type of cell involved; squamous, small cell, adeno, large.\n",
    "* Karnofsky_score: is the Karnofsky score.\n",
    "* Diag: is the time since diagnosis in months.\n",
    "* Age: is the age in years.\n",
    "* Prior_Therapy: denotes any prior therapy; none or yes.\n",
    "* Status: denotes the status of the patient as dead or alive; dead or alive.\n",
    "* Survival_in_days: is the survival time in days since the treatment.\n",
    "\n",
    "Our primary interest is studying whether there a subgroups that differ in survival and whether we can predict survival times."
   ]
  },
  {
   "cell_type": "markdown",
   "metadata": {},
   "source": [
    "Status and Survival_in_days need to be stored as a structured array with the first field indicating whether the actual survival time was observed or if was censored, and the second field denoting the observerd survival time, which corresponds to the time of death (if Status == 'dead', δ=1) or the last time that person was contacted (if Status == 'alive', δ=0)."
   ]
  },
  {
   "cell_type": "code",
   "execution_count": 1,
   "metadata": {},
   "outputs": [],
   "source": [
    "from sksurv.datasets import load_veterans_lung_cancer\n",
    "import pandas as pd\n",
    "\n",
    "data_x, data_y = load_veterans_lung_cancer()"
   ]
  },
  {
   "cell_type": "code",
   "execution_count": 3,
   "metadata": {},
   "outputs": [
    {
     "data": {
      "text/html": [
       "<div>\n",
       "<style scoped>\n",
       "    .dataframe tbody tr th:only-of-type {\n",
       "        vertical-align: middle;\n",
       "    }\n",
       "\n",
       "    .dataframe tbody tr th {\n",
       "        vertical-align: top;\n",
       "    }\n",
       "\n",
       "    .dataframe thead th {\n",
       "        text-align: right;\n",
       "    }\n",
       "</style>\n",
       "<table border=\"1\" class=\"dataframe\">\n",
       "  <thead>\n",
       "    <tr style=\"text-align: right;\">\n",
       "      <th></th>\n",
       "      <th>Age_in_years</th>\n",
       "      <th>Celltype</th>\n",
       "      <th>Karnofsky_score</th>\n",
       "      <th>Months_from_Diagnosis</th>\n",
       "      <th>Prior_therapy</th>\n",
       "      <th>Treatment</th>\n",
       "    </tr>\n",
       "  </thead>\n",
       "  <tbody>\n",
       "    <tr>\n",
       "      <th>0</th>\n",
       "      <td>69.0</td>\n",
       "      <td>squamous</td>\n",
       "      <td>60.0</td>\n",
       "      <td>7.0</td>\n",
       "      <td>no</td>\n",
       "      <td>standard</td>\n",
       "    </tr>\n",
       "    <tr>\n",
       "      <th>1</th>\n",
       "      <td>64.0</td>\n",
       "      <td>squamous</td>\n",
       "      <td>70.0</td>\n",
       "      <td>5.0</td>\n",
       "      <td>yes</td>\n",
       "      <td>standard</td>\n",
       "    </tr>\n",
       "    <tr>\n",
       "      <th>2</th>\n",
       "      <td>38.0</td>\n",
       "      <td>squamous</td>\n",
       "      <td>60.0</td>\n",
       "      <td>3.0</td>\n",
       "      <td>no</td>\n",
       "      <td>standard</td>\n",
       "    </tr>\n",
       "    <tr>\n",
       "      <th>3</th>\n",
       "      <td>63.0</td>\n",
       "      <td>squamous</td>\n",
       "      <td>60.0</td>\n",
       "      <td>9.0</td>\n",
       "      <td>yes</td>\n",
       "      <td>standard</td>\n",
       "    </tr>\n",
       "    <tr>\n",
       "      <th>4</th>\n",
       "      <td>65.0</td>\n",
       "      <td>squamous</td>\n",
       "      <td>70.0</td>\n",
       "      <td>11.0</td>\n",
       "      <td>yes</td>\n",
       "      <td>standard</td>\n",
       "    </tr>\n",
       "  </tbody>\n",
       "</table>\n",
       "</div>"
      ],
      "text/plain": [
       "   Age_in_years  Celltype  Karnofsky_score  Months_from_Diagnosis  \\\n",
       "0          69.0  squamous             60.0                    7.0   \n",
       "1          64.0  squamous             70.0                    5.0   \n",
       "2          38.0  squamous             60.0                    3.0   \n",
       "3          63.0  squamous             60.0                    9.0   \n",
       "4          65.0  squamous             70.0                   11.0   \n",
       "\n",
       "  Prior_therapy Treatment  \n",
       "0            no  standard  \n",
       "1           yes  standard  \n",
       "2            no  standard  \n",
       "3           yes  standard  \n",
       "4           yes  standard  "
      ]
     },
     "execution_count": 3,
     "metadata": {},
     "output_type": "execute_result"
    }
   ],
   "source": [
    "data_x.head()"
   ]
  },
  {
   "cell_type": "code",
   "execution_count": 7,
   "metadata": {},
   "outputs": [
    {
     "data": {
      "text/plain": [
       "(137, 6)"
      ]
     },
     "execution_count": 7,
     "metadata": {},
     "output_type": "execute_result"
    }
   ],
   "source": [
    "data_x.shape"
   ]
  },
  {
   "cell_type": "code",
   "execution_count": 11,
   "metadata": {},
   "outputs": [
    {
     "data": {
      "text/plain": [
       "array([( True,  72.), ( True, 411.), ( True, 228.), ( True, 126.),\n",
       "       ( True, 118.)],\n",
       "      dtype=[('Status', '?'), ('Survival_in_days', '<f8')])"
      ]
     },
     "execution_count": 11,
     "metadata": {},
     "output_type": "execute_result"
    }
   ],
   "source": [
    "data_y[:5]"
   ]
  },
  {
   "cell_type": "markdown",
   "metadata": {},
   "source": [
    "We can easily see that only a small number of survival times are right-censored (Status is False), i.e., most veteran's died during the study period (Status is True)."
   ]
  },
  {
   "cell_type": "markdown",
   "metadata": {},
   "source": [
    "# Non-Parametric Estimate: Kaplan Meier Estimator"
   ]
  },
  {
   "cell_type": "code",
   "execution_count": 16,
   "metadata": {},
   "outputs": [],
   "source": [
    "import matplotlib.pyplot as plt\n",
    "from sksurv.nonparametric import kaplan_meier_estimator\n",
    "\n",
    "%matplotlib inline"
   ]
  },
  {
   "cell_type": "code",
   "execution_count": 17,
   "metadata": {},
   "outputs": [
    {
     "data": {
      "text/plain": [
       "\u001b[0;31mSignature:\u001b[0m \u001b[0mkaplan_meier_estimator\u001b[0m\u001b[0;34m(\u001b[0m\u001b[0mevent\u001b[0m\u001b[0;34m,\u001b[0m \u001b[0mtime_exit\u001b[0m\u001b[0;34m,\u001b[0m \u001b[0mtime_enter\u001b[0m\u001b[0;34m=\u001b[0m\u001b[0;32mNone\u001b[0m\u001b[0;34m,\u001b[0m \u001b[0mtime_min\u001b[0m\u001b[0;34m=\u001b[0m\u001b[0;32mNone\u001b[0m\u001b[0;34m)\u001b[0m\u001b[0;34m\u001b[0m\u001b[0m\n",
       "\u001b[0;31mDocstring:\u001b[0m\n",
       "Kaplan-Meier estimator of survival function.\n",
       "\n",
       "Parameters\n",
       "----------\n",
       "event : array-like, shape = (n_samples,)\n",
       "    Contains binary event indicators.\n",
       "\n",
       "time_exit : array-like, shape = (n_samples,)\n",
       "    Contains event/censoring times.\n",
       "\n",
       "time_enter : array-like, shape = (n_samples,), optional\n",
       "    Contains time when each individual entered the study for\n",
       "    left truncated survival data.\n",
       "\n",
       "time_min : float, optional\n",
       "    Compute estimator conditional on survival at least up to\n",
       "    the specified time.\n",
       "\n",
       "Returns\n",
       "-------\n",
       "time : array, shape = (n_times,)\n",
       "    Unique times.\n",
       "\n",
       "prob_survival : array, shape = (n_times,)\n",
       "    Survival probability at each unique time point.\n",
       "    If `time_enter` is provided, estimates are conditional probabilities.\n",
       "\n",
       "Example\n",
       "-------\n",
       "Creating a Kaplan-Meier curve:\n",
       "\n",
       ">>> x, y = kaplan_meier_estimator(event, time)\n",
       ">>> plt.step(x, y, where=\"post\")\n",
       ">>> plt.ylim(0, 1)\n",
       ">>> plt.show()\n",
       "\n",
       "References\n",
       "----------\n",
       ".. [1]: Kaplan, E. L. and Meier, P., \"Nonparametric estimation from incomplete observations\",\n",
       "        Journal of The American Statistical Association, vol. 53, pp. 457-481, 1958.\n",
       "\u001b[0;31mFile:\u001b[0m      ~/anaconda3/lib/python3.6/site-packages/sksurv/nonparametric.py\n",
       "\u001b[0;31mType:\u001b[0m      function\n"
      ]
     },
     "metadata": {},
     "output_type": "display_data"
    }
   ],
   "source": [
    "?kaplan_meier_estimator"
   ]
  },
  {
   "cell_type": "code",
   "execution_count": 18,
   "metadata": {},
   "outputs": [
    {
     "data": {
      "text/plain": [
       "array([ True,  True,  True,  True,  True,  True,  True,  True,  True,\n",
       "       False,  True,  True,  True, False,  True,  True,  True,  True,\n",
       "        True,  True, False, False,  True,  True,  True,  True,  True,\n",
       "        True,  True,  True,  True,  True,  True,  True,  True,  True,\n",
       "        True,  True,  True,  True,  True,  True,  True,  True,  True,\n",
       "        True,  True,  True,  True,  True,  True,  True,  True,  True,\n",
       "        True,  True,  True,  True,  True,  True,  True,  True,  True,\n",
       "       False,  True,  True,  True,  True,  True,  True,  True, False,\n",
       "       False,  True,  True,  True,  True,  True,  True,  True,  True,\n",
       "        True,  True,  True,  True,  True,  True,  True,  True,  True,\n",
       "       False,  True,  True,  True,  True,  True,  True,  True,  True,\n",
       "        True,  True,  True,  True,  True,  True,  True,  True,  True,\n",
       "        True, False,  True,  True,  True,  True,  True,  True,  True,\n",
       "        True,  True,  True,  True,  True,  True,  True,  True,  True,\n",
       "        True,  True,  True,  True,  True,  True,  True,  True,  True,\n",
       "        True,  True])"
      ]
     },
     "execution_count": 18,
     "metadata": {},
     "output_type": "execute_result"
    }
   ],
   "source": [
    "data_y['Status']"
   ]
  },
  {
   "cell_type": "code",
   "execution_count": 19,
   "metadata": {},
   "outputs": [
    {
     "data": {
      "text/plain": [
       "array([ 72., 411., 228., 126., 118.,  10.,  82., 110., 314., 100.,  42.,\n",
       "         8., 144.,  25.,  11.,  30., 384.,   4.,  54.,  13., 123.,  97.,\n",
       "       153.,  59., 117.,  16., 151.,  22.,  56.,  21.,  18., 139.,  20.,\n",
       "        31.,  52., 287.,  18.,  51., 122.,  27.,  54.,   7.,  63., 392.,\n",
       "        10.,   8.,  92.,  35., 117., 132.,  12., 162.,   3.,  95., 177.,\n",
       "       162., 216., 553., 278.,  12., 260., 200., 156., 182., 143., 105.,\n",
       "       103., 250., 100., 999., 112.,  87., 231., 242., 991., 111.,   1.,\n",
       "       587., 389.,  33.,  25., 357., 467., 201.,   1.,  30.,  44., 283.,\n",
       "        15.,  25., 103.,  21.,  13.,  87.,   2.,  20.,   7.,  24.,  99.,\n",
       "         8.,  99.,  61.,  25.,  95.,  80.,  51.,  29.,  24.,  18.,  83.,\n",
       "        31.,  51.,  90.,  52.,  73.,   8.,  36.,  48.,   7., 140., 186.,\n",
       "        84.,  19.,  45.,  80.,  52., 164.,  19.,  53.,  15.,  43., 340.,\n",
       "       133., 111., 231., 378.,  49.])"
      ]
     },
     "execution_count": 19,
     "metadata": {},
     "output_type": "execute_result"
    }
   ],
   "source": [
    "data_y['Survival_in_days']"
   ]
  },
  {
   "cell_type": "code",
   "execution_count": 20,
   "metadata": {},
   "outputs": [],
   "source": [
    "time, survival_prob = kaplan_meier_estimator(data_y['Status'], data_y['Survival_in_days'])"
   ]
  },
  {
   "cell_type": "code",
   "execution_count": 21,
   "metadata": {},
   "outputs": [
    {
     "data": {
      "text/plain": [
       "array([  1.,   2.,   3.,   4.,   7.,   8.,  10.,  11.,  12.,  13.,  15.,\n",
       "        16.,  18.,  19.,  20.,  21.,  22.,  24.,  25.,  27.,  29.,  30.,\n",
       "        31.,  33.,  35.,  36.,  42.,  43.,  44.,  45.,  48.,  49.,  51.,\n",
       "        52.,  53.,  54.,  56.,  59.,  61.,  63.,  72.,  73.,  80.,  82.,\n",
       "        83.,  84.,  87.,  90.,  92.,  95.,  97.,  99., 100., 103., 105.,\n",
       "       110., 111., 112., 117., 118., 122., 123., 126., 132., 133., 139.,\n",
       "       140., 143., 144., 151., 153., 156., 162., 164., 177., 182., 186.,\n",
       "       200., 201., 216., 228., 231., 242., 250., 260., 278., 283., 287.,\n",
       "       314., 340., 357., 378., 384., 389., 392., 411., 467., 553., 587.,\n",
       "       991., 999.])"
      ]
     },
     "execution_count": 21,
     "metadata": {},
     "output_type": "execute_result"
    }
   ],
   "source": [
    "time"
   ]
  },
  {
   "cell_type": "code",
   "execution_count": 22,
   "metadata": {},
   "outputs": [
    {
     "data": {
      "text/plain": [
       "array([0.98540146, 0.97810219, 0.97080292, 0.96350365, 0.94160584,\n",
       "       0.91240876, 0.89781022, 0.89051095, 0.87591241, 0.86131387,\n",
       "       0.84671533, 0.83941606, 0.81751825, 0.80291971, 0.78832117,\n",
       "       0.77372263, 0.76642336, 0.75182482, 0.72992701, 0.72255401,\n",
       "       0.71518101, 0.70043501, 0.68568901, 0.67831601, 0.67094301,\n",
       "       0.66357001, 0.65619701, 0.64882401, 0.64145101, 0.63407801,\n",
       "       0.62670501, 0.61933201, 0.59721301, 0.57509401, 0.56772101,\n",
       "       0.55297501, 0.54560201, 0.53822901, 0.53085601, 0.52348301,\n",
       "       0.51611001, 0.50873701, 0.493991  , 0.486618  , 0.486618  ,\n",
       "       0.47913157, 0.47164514, 0.46403796, 0.45643078, 0.44121642,\n",
       "       0.44121642, 0.42573515, 0.41799451, 0.41010782, 0.40206649,\n",
       "       0.39402516, 0.3779425 , 0.36990117, 0.35381851, 0.34577718,\n",
       "       0.33773585, 0.33773585, 0.32949839, 0.32126093, 0.31302347,\n",
       "       0.30478601, 0.29654855, 0.28831109, 0.28007363, 0.27183617,\n",
       "       0.26359871, 0.25536125, 0.23888633, 0.23064887, 0.22241141,\n",
       "       0.22241141, 0.21385713, 0.20530284, 0.19674856, 0.18819427,\n",
       "       0.17963999, 0.1710857 , 0.16208119, 0.15307668, 0.14407217,\n",
       "       0.13506766, 0.12606315, 0.11705864, 0.10805413, 0.09904962,\n",
       "       0.09004511, 0.0810406 , 0.07203609, 0.06303157, 0.05402706,\n",
       "       0.04502255, 0.03601804, 0.02701353, 0.01800902, 0.00900451,\n",
       "       0.        ])"
      ]
     },
     "execution_count": 22,
     "metadata": {},
     "output_type": "execute_result"
    }
   ],
   "source": [
    "survival_prob"
   ]
  },
  {
   "cell_type": "code",
   "execution_count": 23,
   "metadata": {},
   "outputs": [
    {
     "data": {
      "text/plain": [
       "Text(0.5,0,'time $t$')"
      ]
     },
     "execution_count": 23,
     "metadata": {},
     "output_type": "execute_result"
    },
    {
     "data": {
      "image/png": "[encoded data removed]",
      "text/plain": [
       "<matplotlib.figure.Figure at 0x7f71223d2b00>"
      ]
     },
     "metadata": {},
     "output_type": "display_data"
    }
   ],
   "source": [
    "plt.step(time, survival_prob, where='post')\n",
    "plt.ylabel('est. probability of survival $\\hat{S}(t)$')\n",
    "plt.xlabel('time $t$')"
   ]
  },
  {
   "cell_type": "markdown",
   "metadata": {},
   "source": [
    "The estimated curve is a step function, with steps occuring at time points where one or more patients died. From the plot we can see that most patients died in the first 200 days, as indicated by the steep slope of the estimated survival function in the first 200 days.\n",
    "\n"
   ]
  },
  {
   "cell_type": "code",
   "execution_count": 31,
   "metadata": {},
   "outputs": [
    {
     "data": {
      "text/html": [
       "<div>\n",
       "<style scoped>\n",
       "    .dataframe tbody tr th:only-of-type {\n",
       "        vertical-align: middle;\n",
       "    }\n",
       "\n",
       "    .dataframe tbody tr th {\n",
       "        vertical-align: top;\n",
       "    }\n",
       "\n",
       "    .dataframe thead th {\n",
       "        text-align: right;\n",
       "    }\n",
       "</style>\n",
       "<table border=\"1\" class=\"dataframe\">\n",
       "  <thead>\n",
       "    <tr style=\"text-align: right;\">\n",
       "      <th></th>\n",
       "      <th>Time</th>\n",
       "      <th>Survival Prob</th>\n",
       "    </tr>\n",
       "  </thead>\n",
       "  <tbody>\n",
       "    <tr>\n",
       "      <th>0</th>\n",
       "      <td>1.0</td>\n",
       "      <td>0.985401</td>\n",
       "    </tr>\n",
       "    <tr>\n",
       "      <th>1</th>\n",
       "      <td>2.0</td>\n",
       "      <td>0.978102</td>\n",
       "    </tr>\n",
       "    <tr>\n",
       "      <th>2</th>\n",
       "      <td>3.0</td>\n",
       "      <td>0.970803</td>\n",
       "    </tr>\n",
       "    <tr>\n",
       "      <th>3</th>\n",
       "      <td>4.0</td>\n",
       "      <td>0.963504</td>\n",
       "    </tr>\n",
       "    <tr>\n",
       "      <th>4</th>\n",
       "      <td>7.0</td>\n",
       "      <td>0.941606</td>\n",
       "    </tr>\n",
       "    <tr>\n",
       "      <th>5</th>\n",
       "      <td>8.0</td>\n",
       "      <td>0.912409</td>\n",
       "    </tr>\n",
       "    <tr>\n",
       "      <th>6</th>\n",
       "      <td>10.0</td>\n",
       "      <td>0.897810</td>\n",
       "    </tr>\n",
       "    <tr>\n",
       "      <th>7</th>\n",
       "      <td>11.0</td>\n",
       "      <td>0.890511</td>\n",
       "    </tr>\n",
       "    <tr>\n",
       "      <th>8</th>\n",
       "      <td>12.0</td>\n",
       "      <td>0.875912</td>\n",
       "    </tr>\n",
       "    <tr>\n",
       "      <th>9</th>\n",
       "      <td>13.0</td>\n",
       "      <td>0.861314</td>\n",
       "    </tr>\n",
       "    <tr>\n",
       "      <th>10</th>\n",
       "      <td>15.0</td>\n",
       "      <td>0.846715</td>\n",
       "    </tr>\n",
       "    <tr>\n",
       "      <th>11</th>\n",
       "      <td>16.0</td>\n",
       "      <td>0.839416</td>\n",
       "    </tr>\n",
       "    <tr>\n",
       "      <th>12</th>\n",
       "      <td>18.0</td>\n",
       "      <td>0.817518</td>\n",
       "    </tr>\n",
       "    <tr>\n",
       "      <th>13</th>\n",
       "      <td>19.0</td>\n",
       "      <td>0.802920</td>\n",
       "    </tr>\n",
       "    <tr>\n",
       "      <th>14</th>\n",
       "      <td>20.0</td>\n",
       "      <td>0.788321</td>\n",
       "    </tr>\n",
       "    <tr>\n",
       "      <th>15</th>\n",
       "      <td>21.0</td>\n",
       "      <td>0.773723</td>\n",
       "    </tr>\n",
       "    <tr>\n",
       "      <th>16</th>\n",
       "      <td>22.0</td>\n",
       "      <td>0.766423</td>\n",
       "    </tr>\n",
       "    <tr>\n",
       "      <th>17</th>\n",
       "      <td>24.0</td>\n",
       "      <td>0.751825</td>\n",
       "    </tr>\n",
       "    <tr>\n",
       "      <th>18</th>\n",
       "      <td>25.0</td>\n",
       "      <td>0.729927</td>\n",
       "    </tr>\n",
       "    <tr>\n",
       "      <th>19</th>\n",
       "      <td>27.0</td>\n",
       "      <td>0.722554</td>\n",
       "    </tr>\n",
       "    <tr>\n",
       "      <th>20</th>\n",
       "      <td>29.0</td>\n",
       "      <td>0.715181</td>\n",
       "    </tr>\n",
       "    <tr>\n",
       "      <th>21</th>\n",
       "      <td>30.0</td>\n",
       "      <td>0.700435</td>\n",
       "    </tr>\n",
       "    <tr>\n",
       "      <th>22</th>\n",
       "      <td>31.0</td>\n",
       "      <td>0.685689</td>\n",
       "    </tr>\n",
       "    <tr>\n",
       "      <th>23</th>\n",
       "      <td>33.0</td>\n",
       "      <td>0.678316</td>\n",
       "    </tr>\n",
       "    <tr>\n",
       "      <th>24</th>\n",
       "      <td>35.0</td>\n",
       "      <td>0.670943</td>\n",
       "    </tr>\n",
       "    <tr>\n",
       "      <th>25</th>\n",
       "      <td>36.0</td>\n",
       "      <td>0.663570</td>\n",
       "    </tr>\n",
       "    <tr>\n",
       "      <th>26</th>\n",
       "      <td>42.0</td>\n",
       "      <td>0.656197</td>\n",
       "    </tr>\n",
       "    <tr>\n",
       "      <th>27</th>\n",
       "      <td>43.0</td>\n",
       "      <td>0.648824</td>\n",
       "    </tr>\n",
       "    <tr>\n",
       "      <th>28</th>\n",
       "      <td>44.0</td>\n",
       "      <td>0.641451</td>\n",
       "    </tr>\n",
       "    <tr>\n",
       "      <th>29</th>\n",
       "      <td>45.0</td>\n",
       "      <td>0.634078</td>\n",
       "    </tr>\n",
       "    <tr>\n",
       "      <th>...</th>\n",
       "      <td>...</td>\n",
       "      <td>...</td>\n",
       "    </tr>\n",
       "    <tr>\n",
       "      <th>71</th>\n",
       "      <td>156.0</td>\n",
       "      <td>0.255361</td>\n",
       "    </tr>\n",
       "    <tr>\n",
       "      <th>72</th>\n",
       "      <td>162.0</td>\n",
       "      <td>0.238886</td>\n",
       "    </tr>\n",
       "    <tr>\n",
       "      <th>73</th>\n",
       "      <td>164.0</td>\n",
       "      <td>0.230649</td>\n",
       "    </tr>\n",
       "    <tr>\n",
       "      <th>74</th>\n",
       "      <td>177.0</td>\n",
       "      <td>0.222411</td>\n",
       "    </tr>\n",
       "    <tr>\n",
       "      <th>75</th>\n",
       "      <td>182.0</td>\n",
       "      <td>0.222411</td>\n",
       "    </tr>\n",
       "    <tr>\n",
       "      <th>76</th>\n",
       "      <td>186.0</td>\n",
       "      <td>0.213857</td>\n",
       "    </tr>\n",
       "    <tr>\n",
       "      <th>77</th>\n",
       "      <td>200.0</td>\n",
       "      <td>0.205303</td>\n",
       "    </tr>\n",
       "    <tr>\n",
       "      <th>78</th>\n",
       "      <td>201.0</td>\n",
       "      <td>0.196749</td>\n",
       "    </tr>\n",
       "    <tr>\n",
       "      <th>79</th>\n",
       "      <td>216.0</td>\n",
       "      <td>0.188194</td>\n",
       "    </tr>\n",
       "    <tr>\n",
       "      <th>80</th>\n",
       "      <td>228.0</td>\n",
       "      <td>0.179640</td>\n",
       "    </tr>\n",
       "    <tr>\n",
       "      <th>81</th>\n",
       "      <td>231.0</td>\n",
       "      <td>0.171086</td>\n",
       "    </tr>\n",
       "    <tr>\n",
       "      <th>82</th>\n",
       "      <td>242.0</td>\n",
       "      <td>0.162081</td>\n",
       "    </tr>\n",
       "    <tr>\n",
       "      <th>83</th>\n",
       "      <td>250.0</td>\n",
       "      <td>0.153077</td>\n",
       "    </tr>\n",
       "    <tr>\n",
       "      <th>84</th>\n",
       "      <td>260.0</td>\n",
       "      <td>0.144072</td>\n",
       "    </tr>\n",
       "    <tr>\n",
       "      <th>85</th>\n",
       "      <td>278.0</td>\n",
       "      <td>0.135068</td>\n",
       "    </tr>\n",
       "    <tr>\n",
       "      <th>86</th>\n",
       "      <td>283.0</td>\n",
       "      <td>0.126063</td>\n",
       "    </tr>\n",
       "    <tr>\n",
       "      <th>87</th>\n",
       "      <td>287.0</td>\n",
       "      <td>0.117059</td>\n",
       "    </tr>\n",
       "    <tr>\n",
       "      <th>88</th>\n",
       "      <td>314.0</td>\n",
       "      <td>0.108054</td>\n",
       "    </tr>\n",
       "    <tr>\n",
       "      <th>89</th>\n",
       "      <td>340.0</td>\n",
       "      <td>0.099050</td>\n",
       "    </tr>\n",
       "    <tr>\n",
       "      <th>90</th>\n",
       "      <td>357.0</td>\n",
       "      <td>0.090045</td>\n",
       "    </tr>\n",
       "    <tr>\n",
       "      <th>91</th>\n",
       "      <td>378.0</td>\n",
       "      <td>0.081041</td>\n",
       "    </tr>\n",
       "    <tr>\n",
       "      <th>92</th>\n",
       "      <td>384.0</td>\n",
       "      <td>0.072036</td>\n",
       "    </tr>\n",
       "    <tr>\n",
       "      <th>93</th>\n",
       "      <td>389.0</td>\n",
       "      <td>0.063032</td>\n",
       "    </tr>\n",
       "    <tr>\n",
       "      <th>94</th>\n",
       "      <td>392.0</td>\n",
       "      <td>0.054027</td>\n",
       "    </tr>\n",
       "    <tr>\n",
       "      <th>95</th>\n",
       "      <td>411.0</td>\n",
       "      <td>0.045023</td>\n",
       "    </tr>\n",
       "    <tr>\n",
       "      <th>96</th>\n",
       "      <td>467.0</td>\n",
       "      <td>0.036018</td>\n",
       "    </tr>\n",
       "    <tr>\n",
       "      <th>97</th>\n",
       "      <td>553.0</td>\n",
       "      <td>0.027014</td>\n",
       "    </tr>\n",
       "    <tr>\n",
       "      <th>98</th>\n",
       "      <td>587.0</td>\n",
       "      <td>0.018009</td>\n",
       "    </tr>\n",
       "    <tr>\n",
       "      <th>99</th>\n",
       "      <td>991.0</td>\n",
       "      <td>0.009005</td>\n",
       "    </tr>\n",
       "    <tr>\n",
       "      <th>100</th>\n",
       "      <td>999.0</td>\n",
       "      <td>0.000000</td>\n",
       "    </tr>\n",
       "  </tbody>\n",
       "</table>\n",
       "<p>101 rows × 2 columns</p>\n",
       "</div>"
      ],
      "text/plain": [
       "      Time  Survival Prob\n",
       "0      1.0       0.985401\n",
       "1      2.0       0.978102\n",
       "2      3.0       0.970803\n",
       "3      4.0       0.963504\n",
       "4      7.0       0.941606\n",
       "5      8.0       0.912409\n",
       "6     10.0       0.897810\n",
       "7     11.0       0.890511\n",
       "8     12.0       0.875912\n",
       "9     13.0       0.861314\n",
       "10    15.0       0.846715\n",
       "11    16.0       0.839416\n",
       "12    18.0       0.817518\n",
       "13    19.0       0.802920\n",
       "14    20.0       0.788321\n",
       "15    21.0       0.773723\n",
       "16    22.0       0.766423\n",
       "17    24.0       0.751825\n",
       "18    25.0       0.729927\n",
       "19    27.0       0.722554\n",
       "20    29.0       0.715181\n",
       "21    30.0       0.700435\n",
       "22    31.0       0.685689\n",
       "23    33.0       0.678316\n",
       "24    35.0       0.670943\n",
       "25    36.0       0.663570\n",
       "26    42.0       0.656197\n",
       "27    43.0       0.648824\n",
       "28    44.0       0.641451\n",
       "29    45.0       0.634078\n",
       "..     ...            ...\n",
       "71   156.0       0.255361\n",
       "72   162.0       0.238886\n",
       "73   164.0       0.230649\n",
       "74   177.0       0.222411\n",
       "75   182.0       0.222411\n",
       "76   186.0       0.213857\n",
       "77   200.0       0.205303\n",
       "78   201.0       0.196749\n",
       "79   216.0       0.188194\n",
       "80   228.0       0.179640\n",
       "81   231.0       0.171086\n",
       "82   242.0       0.162081\n",
       "83   250.0       0.153077\n",
       "84   260.0       0.144072\n",
       "85   278.0       0.135068\n",
       "86   283.0       0.126063\n",
       "87   287.0       0.117059\n",
       "88   314.0       0.108054\n",
       "89   340.0       0.099050\n",
       "90   357.0       0.090045\n",
       "91   378.0       0.081041\n",
       "92   384.0       0.072036\n",
       "93   389.0       0.063032\n",
       "94   392.0       0.054027\n",
       "95   411.0       0.045023\n",
       "96   467.0       0.036018\n",
       "97   553.0       0.027014\n",
       "98   587.0       0.018009\n",
       "99   991.0       0.009005\n",
       "100  999.0       0.000000\n",
       "\n",
       "[101 rows x 2 columns]"
      ]
     },
     "execution_count": 31,
     "metadata": {},
     "output_type": "execute_result"
    }
   ],
   "source": [
    "pd.DataFrame(\n",
    "    \n",
    "{\n",
    "   'Time': time,\n",
    "    'Survival Prob': survival_prob\n",
    "    \n",
    "    \n",
    "}, columns=['Time', 'Survival Prob']\n",
    "\n",
    ")"
   ]
  },
  {
   "cell_type": "markdown",
   "metadata": {},
   "source": [
    "# Grouping by Other Variables\n",
    "\n",
    "Roughly half the patients received the alternative treatment.\n",
    "\n",
    "The obvious questions to ask is:\n",
    "\n",
    "> Is there any difference between these two groups ?"
   ]
  },
  {
   "cell_type": "markdown",
   "metadata": {},
   "source": [
    "## Treatment"
   ]
  },
  {
   "cell_type": "code",
   "execution_count": 34,
   "metadata": {},
   "outputs": [
    {
     "data": {
      "text/plain": [
       "standard    69\n",
       "test        68\n",
       "Name: Treatment, dtype: int64"
      ]
     },
     "execution_count": 34,
     "metadata": {},
     "output_type": "execute_result"
    }
   ],
   "source": [
    "data_x['Treatment'].value_counts()"
   ]
  },
  {
   "cell_type": "code",
   "execution_count": 38,
   "metadata": {},
   "outputs": [
    {
     "data": {
      "text/plain": [
       "<matplotlib.legend.Legend at 0x7f7118acda58>"
      ]
     },
     "execution_count": 38,
     "metadata": {},
     "output_type": "execute_result"
    },
    {
     "data": {
      "image/png": "[encoded data removed]",
      "text/plain": [
       "<matplotlib.figure.Figure at 0x7f711980cc50>"
      ]
     },
     "metadata": {},
     "output_type": "display_data"
    }
   ],
   "source": [
    "# Plot the two groups separately\n",
    "\n",
    "for treatment_type in ['standard', 'test']:\n",
    "    # select on roles with specific treatment\n",
    "    mask_treat = data_x['Treatment'] == treatment_type\n",
    "    time_treatment, survival_prob_treatment = kaplan_meier_estimator(\n",
    "        data_y['Status'][mask_treat],\n",
    "        data_y['Survival_in_days'][mask_treat]\n",
    "    )\n",
    "    plt.step(time_treatment, survival_prob_treatment, where='post', label = 'Treatment = %s' % treatment_type)\n",
    "    \n",
    "plt.ylabel('Estimated Probability of survival, $S(t)$')\n",
    "plt.xlabel(\"time $t$\")\n",
    "plt.legend(loc=\"best\")"
   ]
  },
  {
   "cell_type": "markdown",
   "metadata": {},
   "source": [
    "## Cell Type"
   ]
  },
  {
   "cell_type": "code",
   "execution_count": 39,
   "metadata": {},
   "outputs": [
    {
     "data": {
      "text/plain": [
       "<matplotlib.legend.Legend at 0x7f7119209c88>"
      ]
     },
     "execution_count": 39,
     "metadata": {},
     "output_type": "execute_result"
    },
    {
     "data": {
      "image/png": "[encoded data removed]",
      "text/plain": [
       "<matplotlib.figure.Figure at 0x7f71192093c8>"
      ]
     },
     "metadata": {},
     "output_type": "display_data"
    }
   ],
   "source": [
    "for value in data_x[\"Celltype\"].unique():\n",
    "    mask = data_x[\"Celltype\"] == value\n",
    "    time_cell, survival_prob_cell = kaplan_meier_estimator(data_y[\"Status\"][mask],\n",
    "                                                           data_y[\"Survival_in_days\"][mask])\n",
    "    plt.step(time_cell, survival_prob_cell, where=\"post\",\n",
    "             label=\"%s (n = %d)\" % (value, mask.sum()))\n",
    "\n",
    "plt.ylabel(\"est. probability of survival $\\hat{S}(t)$\")\n",
    "plt.xlabel(\"time $t$\")\n",
    "plt.legend(loc=\"best\")"
   ]
  },
  {
   "cell_type": "markdown",
   "metadata": {},
   "source": [
    "In this case, we observe a pronounced difference between two groups. Patients with squamous or large cells seem to have a better prognosis compared to patients with small or adeno cells.\n",
    "\n",
    "**Steeper gradient means faster rate of death**"
   ]
  },
  {
   "cell_type": "markdown",
   "metadata": {},
   "source": [
    "# Multivariate Survival Models\n",
    "\n",
    "In the Kaplan-Meier approach used above, we estimated multiple survival curves by dividing the dataset into smaller sub-groups according to a variable. If we want to consider more than 1 or 2 variables, this approach quickly becomes infeasible, because subgroups will get very small. Instead, we can use a linear model, Cox's proportional hazard's model, to estimate the impact each variable has on survival."
   ]
  },
  {
   "cell_type": "markdown",
   "metadata": {},
   "source": [
    "## One Hot Encoding"
   ]
  },
  {
   "cell_type": "code",
   "execution_count": 41,
   "metadata": {},
   "outputs": [
    {
     "data": {
      "text/html": [
       "<div>\n",
       "<style scoped>\n",
       "    .dataframe tbody tr th:only-of-type {\n",
       "        vertical-align: middle;\n",
       "    }\n",
       "\n",
       "    .dataframe tbody tr th {\n",
       "        vertical-align: top;\n",
       "    }\n",
       "\n",
       "    .dataframe thead th {\n",
       "        text-align: right;\n",
       "    }\n",
       "</style>\n",
       "<table border=\"1\" class=\"dataframe\">\n",
       "  <thead>\n",
       "    <tr style=\"text-align: right;\">\n",
       "      <th></th>\n",
       "      <th>Age_in_years</th>\n",
       "      <th>Celltype=large</th>\n",
       "      <th>Celltype=smallcell</th>\n",
       "      <th>Celltype=squamous</th>\n",
       "      <th>Karnofsky_score</th>\n",
       "      <th>Months_from_Diagnosis</th>\n",
       "      <th>Prior_therapy=yes</th>\n",
       "      <th>Treatment=test</th>\n",
       "    </tr>\n",
       "  </thead>\n",
       "  <tbody>\n",
       "    <tr>\n",
       "      <th>0</th>\n",
       "      <td>69.0</td>\n",
       "      <td>0.0</td>\n",
       "      <td>0.0</td>\n",
       "      <td>1.0</td>\n",
       "      <td>60.0</td>\n",
       "      <td>7.0</td>\n",
       "      <td>0.0</td>\n",
       "      <td>0.0</td>\n",
       "    </tr>\n",
       "    <tr>\n",
       "      <th>1</th>\n",
       "      <td>64.0</td>\n",
       "      <td>0.0</td>\n",
       "      <td>0.0</td>\n",
       "      <td>1.0</td>\n",
       "      <td>70.0</td>\n",
       "      <td>5.0</td>\n",
       "      <td>1.0</td>\n",
       "      <td>0.0</td>\n",
       "    </tr>\n",
       "    <tr>\n",
       "      <th>2</th>\n",
       "      <td>38.0</td>\n",
       "      <td>0.0</td>\n",
       "      <td>0.0</td>\n",
       "      <td>1.0</td>\n",
       "      <td>60.0</td>\n",
       "      <td>3.0</td>\n",
       "      <td>0.0</td>\n",
       "      <td>0.0</td>\n",
       "    </tr>\n",
       "    <tr>\n",
       "      <th>3</th>\n",
       "      <td>63.0</td>\n",
       "      <td>0.0</td>\n",
       "      <td>0.0</td>\n",
       "      <td>1.0</td>\n",
       "      <td>60.0</td>\n",
       "      <td>9.0</td>\n",
       "      <td>1.0</td>\n",
       "      <td>0.0</td>\n",
       "    </tr>\n",
       "    <tr>\n",
       "      <th>4</th>\n",
       "      <td>65.0</td>\n",
       "      <td>0.0</td>\n",
       "      <td>0.0</td>\n",
       "      <td>1.0</td>\n",
       "      <td>70.0</td>\n",
       "      <td>11.0</td>\n",
       "      <td>1.0</td>\n",
       "      <td>0.0</td>\n",
       "    </tr>\n",
       "  </tbody>\n",
       "</table>\n",
       "</div>"
      ],
      "text/plain": [
       "   Age_in_years  Celltype=large  Celltype=smallcell  Celltype=squamous  \\\n",
       "0          69.0             0.0                 0.0                1.0   \n",
       "1          64.0             0.0                 0.0                1.0   \n",
       "2          38.0             0.0                 0.0                1.0   \n",
       "3          63.0             0.0                 0.0                1.0   \n",
       "4          65.0             0.0                 0.0                1.0   \n",
       "\n",
       "   Karnofsky_score  Months_from_Diagnosis  Prior_therapy=yes  Treatment=test  \n",
       "0             60.0                    7.0                0.0             0.0  \n",
       "1             70.0                    5.0                1.0             0.0  \n",
       "2             60.0                    3.0                0.0             0.0  \n",
       "3             60.0                    9.0                1.0             0.0  \n",
       "4             70.0                   11.0                1.0             0.0  "
      ]
     },
     "execution_count": 41,
     "metadata": {},
     "output_type": "execute_result"
    }
   ],
   "source": [
    "# Perform OHE as Cox Regression can't handle categorical\n",
    "\n",
    "from sksurv.preprocessing import OneHotEncoder\n",
    "\n",
    "data_x_numeric = OneHotEncoder().fit_transform(data_x)\n",
    "data_x_numeric.head()"
   ]
  },
  {
   "cell_type": "markdown",
   "metadata": {},
   "source": [
    "## Cox Proportional Hazard"
   ]
  },
  {
   "cell_type": "code",
   "execution_count": 42,
   "metadata": {},
   "outputs": [
    {
     "data": {
      "text/plain": [
       "CoxPHSurvivalAnalysis(alpha=0, n_iter=100, tol=1e-09, verbose=0)"
      ]
     },
     "execution_count": 42,
     "metadata": {},
     "output_type": "execute_result"
    }
   ],
   "source": [
    "from sksurv.linear_model import CoxPHSurvivalAnalysis\n",
    "\n",
    "estimator = CoxPHSurvivalAnalysis()\n",
    "estimator.fit(data_x_numeric, data_y)"
   ]
  },
  {
   "cell_type": "code",
   "execution_count": 44,
   "metadata": {},
   "outputs": [
    {
     "data": {
      "text/plain": [
       "{'alpha': 0, 'n_iter': 100, 'tol': 1e-09, 'verbose': 0}"
      ]
     },
     "execution_count": 44,
     "metadata": {},
     "output_type": "execute_result"
    }
   ],
   "source": [
    "estimator.get_params()"
   ]
  },
  {
   "cell_type": "code",
   "execution_count": 48,
   "metadata": {},
   "outputs": [
    {
     "data": {
      "text/plain": [
       "Treatment=test           0.289936\n",
       "Prior_therapy=yes        0.072327\n",
       "Months_from_Diagnosis   -0.000092\n",
       "Age_in_years            -0.008549\n",
       "Karnofsky_score         -0.032622\n",
       "Celltype=smallcell      -0.331813\n",
       "Celltype=large          -0.788672\n",
       "Celltype=squamous       -1.188299\n",
       "dtype: float64"
      ]
     },
     "execution_count": 48,
     "metadata": {},
     "output_type": "execute_result"
    }
   ],
   "source": [
    "# Log hazard ratio\n",
    "pd.Series(estimator.coef_, index = data_x_numeric.columns).sort_values(ascending = False)"
   ]
  },
  {
   "cell_type": "markdown",
   "metadata": {},
   "source": [
    "* Risk of death is 0.3 times higher in Treatment = Test\n",
    "* Risk of death is 1.2 times lower in celltype = squamous\n"
   ]
  },
  {
   "cell_type": "markdown",
   "metadata": {},
   "source": [
    "## Predict Patient Specific Survival Function"
   ]
  },
  {
   "cell_type": "code",
   "execution_count": 49,
   "metadata": {},
   "outputs": [
    {
     "data": {
      "text/html": [
       "<div>\n",
       "<style scoped>\n",
       "    .dataframe tbody tr th:only-of-type {\n",
       "        vertical-align: middle;\n",
       "    }\n",
       "\n",
       "    .dataframe tbody tr th {\n",
       "        vertical-align: top;\n",
       "    }\n",
       "\n",
       "    .dataframe thead th {\n",
       "        text-align: right;\n",
       "    }\n",
       "</style>\n",
       "<table border=\"1\" class=\"dataframe\">\n",
       "  <thead>\n",
       "    <tr style=\"text-align: right;\">\n",
       "      <th></th>\n",
       "      <th>Age_in_years</th>\n",
       "      <th>Celltype=large</th>\n",
       "      <th>Celltype=smallcell</th>\n",
       "      <th>Celltype=squamous</th>\n",
       "      <th>Karnofsky_score</th>\n",
       "      <th>Months_from_Diagnosis</th>\n",
       "      <th>Prior_therapy=yes</th>\n",
       "      <th>Treatment=test</th>\n",
       "    </tr>\n",
       "  </thead>\n",
       "  <tbody>\n",
       "    <tr>\n",
       "      <th>1</th>\n",
       "      <td>65</td>\n",
       "      <td>0</td>\n",
       "      <td>0</td>\n",
       "      <td>1</td>\n",
       "      <td>60</td>\n",
       "      <td>1</td>\n",
       "      <td>0</td>\n",
       "      <td>1</td>\n",
       "    </tr>\n",
       "    <tr>\n",
       "      <th>2</th>\n",
       "      <td>65</td>\n",
       "      <td>0</td>\n",
       "      <td>0</td>\n",
       "      <td>1</td>\n",
       "      <td>60</td>\n",
       "      <td>1</td>\n",
       "      <td>0</td>\n",
       "      <td>0</td>\n",
       "    </tr>\n",
       "    <tr>\n",
       "      <th>3</th>\n",
       "      <td>65</td>\n",
       "      <td>0</td>\n",
       "      <td>1</td>\n",
       "      <td>0</td>\n",
       "      <td>60</td>\n",
       "      <td>1</td>\n",
       "      <td>0</td>\n",
       "      <td>0</td>\n",
       "    </tr>\n",
       "    <tr>\n",
       "      <th>4</th>\n",
       "      <td>65</td>\n",
       "      <td>0</td>\n",
       "      <td>1</td>\n",
       "      <td>0</td>\n",
       "      <td>60</td>\n",
       "      <td>1</td>\n",
       "      <td>0</td>\n",
       "      <td>1</td>\n",
       "    </tr>\n",
       "  </tbody>\n",
       "</table>\n",
       "</div>"
      ],
      "text/plain": [
       "   Age_in_years  Celltype=large  Celltype=smallcell  Celltype=squamous  \\\n",
       "1            65               0                   0                  1   \n",
       "2            65               0                   0                  1   \n",
       "3            65               0                   1                  0   \n",
       "4            65               0                   1                  0   \n",
       "\n",
       "   Karnofsky_score  Months_from_Diagnosis  Prior_therapy=yes  Treatment=test  \n",
       "1               60                      1                  0               1  \n",
       "2               60                      1                  0               0  \n",
       "3               60                      1                  0               0  \n",
       "4               60                      1                  0               1  "
      ]
     },
     "execution_count": 49,
     "metadata": {},
     "output_type": "execute_result"
    }
   ],
   "source": [
    "x_new = pd.DataFrame.from_items(\n",
    "    [(1, [65, 0, 0, 1, 60, 1, 0, 1]),\n",
    "     (2, [65, 0, 0, 1, 60, 1, 0, 0]),\n",
    "     (3, [65, 0, 1, 0, 60, 1, 0, 0]),\n",
    "     (4, [65, 0, 1, 0, 60, 1, 0, 1])],\n",
    "     columns=data_x_numeric.columns, orient='index')\n",
    "x_new"
   ]
  },
  {
   "cell_type": "code",
   "execution_count": 50,
   "metadata": {},
   "outputs": [],
   "source": [
    "pred_surv = estimator.predict_survival_function(x_new)"
   ]
  },
  {
   "cell_type": "code",
   "execution_count": 70,
   "metadata": {},
   "outputs": [
    {
     "data": {
      "text/plain": [
       "array([StepFunction(x=array([  1.,   2.,   3.,   4.,   7.,   8.,  10.,  11.,  12.,  13.,  15.,\n",
       "        16.,  18.,  19.,  20.,  21.,  22.,  24.,  25.,  27.,  29.,  30.,\n",
       "        31.,  33.,  35.,  36.,  42.,  43.,  44.,  45.,  48.,  49.,  51.,\n",
       "        52.,  53.,  54.,  56.,  59.,  61.,  63.,  72.,  73.,  80.,  82.,\n",
       "        83.,  84.,  87.,  90.,  92.,  95.,  97.,  99., 100., 103., 105.,\n",
       "       110., 111., 112., 117., 118., 122., 123., 126., 132., 133., 139.,\n",
       "       140., 143., 144., 151., 153., 156., 162., 164., 177., 182., 186.,\n",
       "       200., 201., 216., 228., 231., 242., 250., 260., 278., 283., 287.,\n",
       "       314., 340., 357., 378., 384., 389., 392., 411., 467., 553., 587.,\n",
       "       991., 999.]), y=array([0.99434242, 0.99147904, 0.98857541, 0.98561186, 0.97665739,\n",
       "       0.96418099, 0.9576397 , 0.95430954, 0.94766847, 0.94093389,\n",
       "       0.93404319, 0.93054128, 0.91989204, 0.91229923, 0.90441587,\n",
       "       0.89617021, 0.89183372, 0.88315163, 0.86968009, 0.86494784,\n",
       "       0.86019462, 0.85053113, 0.84083699, 0.83594151, 0.83099732,\n",
       "       0.82593766, 0.8208327 , 0.81573874, 0.81061804, 0.8054964 ,\n",
       "       0.80020353, 0.79438666, 0.77653941, 0.75734964, 0.75066398,\n",
       "       0.73729566, 0.73056539, 0.72382336, 0.71684145, 0.70981753,\n",
       "       0.70266469, 0.69553199, 0.68102242, 0.6730912 , 0.6730912 ,\n",
       "       0.66501962, 0.65686046, 0.64848709, 0.639776  , 0.62227172,\n",
       "       0.62227172, 0.6039543 , 0.59462978, 0.58515073, 0.57534312,\n",
       "       0.56560594, 0.54650172, 0.53682307, 0.51779554, 0.50806828,\n",
       "       0.49841863, 0.49841863, 0.48802455, 0.47767068, 0.46721409,\n",
       "       0.45677755, 0.44635876, 0.43558581, 0.42496071, 0.4140562 ,\n",
       "       0.40274746, 0.39113731, 0.36839571, 0.35688541, 0.34532811,\n",
       "       0.34532811, 0.3333391 , 0.32122515, 0.3092171 , 0.29738185,\n",
       "       0.28519462, 0.27303737, 0.25982169, 0.24638218, 0.2329731 ,\n",
       "       0.21979976, 0.20652002, 0.19371503, 0.1801255 , 0.16627583,\n",
       "       0.15260734, 0.13922084, 0.12611681, 0.11124974, 0.09751172,\n",
       "       0.07723572, 0.05896367, 0.04365054, 0.02870751, 0.01349537,\n",
       "       0.00141485])),\n",
       "       StepFunction(x=array([  1.,   2.,   3.,   4.,   7.,   8.,  10.,  11.,  12.,  13.,  15.,\n",
       "        16.,  18.,  19.,  20.,  21.,  22.,  24.,  25.,  27.,  29.,  30.,\n",
       "        31.,  33.,  35.,  36.,  42.,  43.,  44.,  45.,  48.,  49.,  51.,\n",
       "        52.,  53.,  54.,  56.,  59.,  61.,  63.,  72.,  73.,  80.,  82.,\n",
       "        83.,  84.,  87.,  90.,  92.,  95.,  97.,  99., 100., 103., 105.,\n",
       "       110., 111., 112., 117., 118., 122., 123., 126., 132., 133., 139.,\n",
       "       140., 143., 144., 151., 153., 156., 162., 164., 177., 182., 186.,\n",
       "       200., 201., 216., 228., 231., 242., 250., 260., 278., 283., 287.,\n",
       "       314., 340., 357., 378., 384., 389., 392., 411., 467., 553., 587.,\n",
       "       991., 999.]), y=array([0.99576335, 0.9936168 , 0.9914385 , 0.98921358, 0.98248063,\n",
       "       0.97307356, 0.96812926, 0.96560886, 0.96057602, 0.95546322,\n",
       "       0.95022237, 0.9475552 , 0.93942881, 0.9336203 , 0.92757664,\n",
       "       0.92124101, 0.91790315, 0.91120811, 0.90078684, 0.89711647,\n",
       "       0.89342473, 0.88590341, 0.87833659, 0.87450706, 0.87063369,\n",
       "       0.86666385, 0.86265226, 0.85864305, 0.85460643, 0.85056265,\n",
       "       0.84637687, 0.84176865, 0.82757636, 0.81222456, 0.80685313,\n",
       "       0.79607638, 0.79063225, 0.78516593, 0.77949161, 0.77376908,\n",
       "       0.76792686, 0.76208615, 0.75015802, 0.74361086, 0.74361086,\n",
       "       0.73692786, 0.73015158, 0.72317532, 0.71589358, 0.70118547,\n",
       "       0.70118547, 0.68568212, 0.67774475, 0.66964368, 0.66122695,\n",
       "       0.65283486, 0.63626307, 0.6278119 , 0.61108462, 0.60247371,\n",
       "       0.59389039, 0.59389039, 0.58459797, 0.57529184, 0.56584171,\n",
       "       0.55635646, 0.54683277, 0.53692633, 0.52709525, 0.51694108,\n",
       "       0.50633913, 0.49537634, 0.47366161, 0.46254301, 0.45128783,\n",
       "       0.45128783, 0.43951153, 0.42750371, 0.41548781, 0.40352935,\n",
       "       0.39108932, 0.37854584, 0.36474962, 0.35053727, 0.33616122,\n",
       "       0.32183359, 0.30716963, 0.29280337, 0.27729263, 0.26117851,\n",
       "       0.24494019, 0.22867779, 0.21237237, 0.1933457 , 0.17518606,\n",
       "       0.14714365, 0.12023037, 0.09600383, 0.07016172, 0.03988372,\n",
       "       0.00737638])),\n",
       "       StepFunction(x=array([  1.,   2.,   3.,   4.,   7.,   8.,  10.,  11.,  12.,  13.,  15.,\n",
       "        16.,  18.,  19.,  20.,  21.,  22.,  24.,  25.,  27.,  29.,  30.,\n",
       "        31.,  33.,  35.,  36.,  42.,  43.,  44.,  45.,  48.,  49.,  51.,\n",
       "        52.,  53.,  54.,  56.,  59.,  61.,  63.,  72.,  73.,  80.,  82.,\n",
       "        83.,  84.,  87.,  90.,  92.,  95.,  97.,  99., 100., 103., 105.,\n",
       "       110., 111., 112., 117., 118., 122., 123., 126., 132., 133., 139.,\n",
       "       140., 143., 144., 151., 153., 156., 162., 164., 177., 182., 186.,\n",
       "       200., 201., 216., 228., 231., 242., 250., 260., 278., 283., 287.,\n",
       "       314., 340., 357., 378., 384., 389., 392., 411., 467., 553., 587.,\n",
       "       991., 999.]), y=array([9.90051842e-01, 9.85033333e-01, 9.79955571e-01, 9.74784719e-01,\n",
       "       9.59232742e-01, 9.37744590e-01, 9.26562710e-01, 9.20892347e-01,\n",
       "       9.09629358e-01, 8.98269044e-01, 8.86709357e-01, 8.80859465e-01,\n",
       "       8.63173058e-01, 8.50657677e-01, 8.37747118e-01, 8.24334679e-01,\n",
       "       8.17318526e-01, 8.03349505e-01, 7.81881010e-01, 7.74399380e-01,\n",
       "       7.66915919e-01, 7.51798771e-01, 7.36764643e-01, 7.29222462e-01,\n",
       "       7.21639322e-01, 7.13914614e-01, 7.06157198e-01, 6.98453079e-01,\n",
       "       6.90745378e-01, 6.83073302e-01, 6.75183689e-01, 6.66558776e-01,\n",
       "       6.40395822e-01, 6.12771787e-01, 6.03271604e-01, 5.84468376e-01,\n",
       "       5.75099513e-01, 5.65779993e-01, 5.56198392e-01, 5.46630628e-01,\n",
       "       5.36961152e-01, 5.27393307e-01, 5.08160185e-01, 4.97777846e-01,\n",
       "       4.97777846e-01, 4.87307063e-01, 4.76820673e-01, 4.66161705e-01,\n",
       "       4.55183625e-01, 4.33467084e-01, 4.33467084e-01, 4.11235045e-01,\n",
       "       4.00112694e-01, 3.88941478e-01, 3.77527339e-01, 3.66340929e-01,\n",
       "       3.44817633e-01, 3.34129118e-01, 3.13542149e-01, 3.03237036e-01,\n",
       "       2.93161639e-01, 2.93161639e-01, 2.82474103e-01, 2.71999008e-01,\n",
       "       2.61594201e-01, 2.51384827e-01, 2.41368623e-01, 2.31197703e-01,\n",
       "       2.21352405e-01, 2.11441461e-01, 2.01371197e-01, 1.91254382e-01,\n",
       "       1.72095255e-01, 1.62733099e-01, 1.53561481e-01, 1.53561481e-01,\n",
       "       1.44291404e-01, 1.35179373e-01, 1.26401826e-01, 1.18001115e-01,\n",
       "       1.09612936e-01, 1.01513250e-01, 9.30151372e-02, 8.47046060e-02,\n",
       "       7.67502682e-02, 6.92683058e-02, 6.20641919e-02, 5.54440034e-02,\n",
       "       4.87742606e-02, 4.23605804e-02, 3.64178434e-02, 3.09780519e-02,\n",
       "       2.60256469e-02, 2.08645338e-02, 1.65400868e-02, 1.09682487e-02,\n",
       "       6.81632981e-03, 4.01253789e-03, 1.91740135e-03, 5.07051337e-04,\n",
       "       9.52890734e-06])),\n",
       "       StepFunction(x=array([  1.,   2.,   3.,   4.,   7.,   8.,  10.,  11.,  12.,  13.,  15.,\n",
       "        16.,  18.,  19.,  20.,  21.,  22.,  24.,  25.,  27.,  29.,  30.,\n",
       "        31.,  33.,  35.,  36.,  42.,  43.,  44.,  45.,  48.,  49.,  51.,\n",
       "        52.,  53.,  54.,  56.,  59.,  61.,  63.,  72.,  73.,  80.,  82.,\n",
       "        83.,  84.,  87.,  90.,  92.,  95.,  97.,  99., 100., 103., 105.,\n",
       "       110., 111., 112., 117., 118., 122., 123., 126., 132., 133., 139.,\n",
       "       140., 143., 144., 151., 153., 156., 162., 164., 177., 182., 186.,\n",
       "       200., 201., 216., 228., 231., 242., 250., 260., 278., 283., 287.,\n",
       "       314., 340., 357., 378., 384., 389., 392., 411., 467., 553., 587.,\n",
       "       991., 999.]), y=array([9.86728151e-01, 9.80049926e-01, 9.73304489e-01, 9.66447459e-01,\n",
       "       9.45897937e-01, 9.17688820e-01, 9.03094993e-01, 8.95716983e-01,\n",
       "       8.81107444e-01, 8.66433168e-01, 8.51565302e-01, 8.44066027e-01,\n",
       "       8.21494994e-01, 8.05616658e-01, 7.89319098e-01, 7.72477244e-01,\n",
       "       7.63703691e-01, 7.46311183e-01, 7.19779386e-01, 7.10590315e-01,\n",
       "       7.01428818e-01, 6.83013684e-01, 6.64822789e-01, 6.55743714e-01,\n",
       "       6.46647120e-01, 6.37413704e-01, 6.28174948e-01, 6.19033388e-01,\n",
       "       6.09921455e-01, 6.00885534e-01, 5.91628942e-01, 5.81551203e-01,\n",
       "       5.51250538e-01, 5.19706854e-01, 5.08967665e-01, 4.87879982e-01,\n",
       "       4.77457290e-01, 4.67145996e-01, 4.56604132e-01, 4.46138269e-01,\n",
       "       4.35623565e-01, 4.25281871e-01, 4.04684303e-01, 3.93673301e-01,\n",
       "       3.93673301e-01, 3.82646467e-01, 3.71682783e-01, 3.60621483e-01,\n",
       "       3.49317631e-01, 3.27227123e-01, 3.27227123e-01, 3.04994841e-01,\n",
       "       2.94021859e-01, 2.83103472e-01, 2.72056103e-01, 2.61337594e-01,\n",
       "       2.41024659e-01, 2.31093012e-01, 2.12265395e-01, 2.02994350e-01,\n",
       "       1.94031838e-01, 1.94031838e-01, 1.84637455e-01, 1.75545085e-01,\n",
       "       1.66629582e-01, 1.57996702e-01, 1.49640988e-01, 1.41274763e-01,\n",
       "       1.33293418e-01, 1.25378594e-01, 1.17463400e-01, 1.09644608e-01,\n",
       "       9.52195301e-02, 8.83613370e-02, 8.17701914e-02, 8.17701914e-02,\n",
       "       7.52415758e-02, 6.89603214e-02, 6.30427945e-02, 5.75072522e-02,\n",
       "       5.21107357e-02, 4.70299810e-02, 4.18441842e-02, 3.69247318e-02,\n",
       "       3.23657497e-02, 2.82200564e-02, 2.43681810e-02, 2.09585085e-02,\n",
       "       1.76593370e-02, 1.46268834e-02, 1.19515454e-02, 9.62792121e-03,\n",
       "       7.62842421e-03, 5.67747960e-03, 4.16253197e-03, 2.40410562e-03,\n",
       "       1.27316036e-03, 6.27117376e-04, 2.33763039e-04, 3.95205679e-05,\n",
       "       1.95112654e-07]))], dtype=object)"
      ]
     },
     "execution_count": 70,
     "metadata": {},
     "output_type": "execute_result"
    }
   ],
   "source": [
    "pred_surv"
   ]
  },
  {
   "cell_type": "markdown",
   "metadata": {},
   "source": [
    "**extracting step functions**\n",
    "\n",
    "https://github.com/sebp/scikit-survival/issues/30"
   ]
  },
  {
   "cell_type": "code",
   "execution_count": 79,
   "metadata": {},
   "outputs": [
    {
     "name": "stdout",
     "output_type": "stream",
     "text": [
      "Surv function at 1 for patient 0 = 0.9943424217109322\n",
      "Surv function at 1 for patient 1 = 0.9957633474574168\n",
      "Surv function at 1 for patient 2 = 0.9900518423723645\n",
      "Surv function at 1 for patient 3 = 0.986728151274063\n"
     ]
    }
   ],
   "source": [
    "time_point = 1\n",
    "for i, f in enumerate(pred_surv):\n",
    "    val = f(time_point)\n",
    "    print(\"Surv function at {} for patient {} = {}\".format(time_point, i, val))"
   ]
  },
  {
   "cell_type": "code",
   "execution_count": 85,
   "metadata": {},
   "outputs": [
    {
     "data": {
      "text/plain": [
       "array([  1.,   2.,   3.,   4.,   7.,   8.,  10.,  11.,  12.,  13.,  15.,\n",
       "        16.,  18.,  19.,  20.,  21.,  22.,  24.,  25.,  27.,  29.,  30.,\n",
       "        31.,  33.,  35.,  36.,  42.,  43.,  44.,  45.,  48.,  49.,  51.,\n",
       "        52.,  53.,  54.,  56.,  59.,  61.,  63.,  72.,  73.,  80.,  82.,\n",
       "        83.,  84.,  87.,  90.,  92.,  95.,  97.,  99., 100., 103., 105.,\n",
       "       110., 111., 112., 117., 118., 122., 123., 126., 132., 133., 139.,\n",
       "       140., 143., 144., 151., 153., 156., 162., 164., 177., 182., 186.,\n",
       "       200., 201., 216., 228., 231., 242., 250., 260., 278., 283., 287.,\n",
       "       314., 340., 357., 378., 384., 389., 392., 411., 467., 553., 587.,\n",
       "       991., 999.])"
      ]
     },
     "execution_count": 85,
     "metadata": {},
     "output_type": "execute_result"
    }
   ],
   "source": [
    "# accessing the data\n",
    "pred_surv[0].x"
   ]
  },
  {
   "cell_type": "code",
   "execution_count": 86,
   "metadata": {},
   "outputs": [
    {
     "data": {
      "text/plain": [
       "array([0.99434242, 0.99147904, 0.98857541, 0.98561186, 0.97665739,\n",
       "       0.96418099, 0.9576397 , 0.95430954, 0.94766847, 0.94093389,\n",
       "       0.93404319, 0.93054128, 0.91989204, 0.91229923, 0.90441587,\n",
       "       0.89617021, 0.89183372, 0.88315163, 0.86968009, 0.86494784,\n",
       "       0.86019462, 0.85053113, 0.84083699, 0.83594151, 0.83099732,\n",
       "       0.82593766, 0.8208327 , 0.81573874, 0.81061804, 0.8054964 ,\n",
       "       0.80020353, 0.79438666, 0.77653941, 0.75734964, 0.75066398,\n",
       "       0.73729566, 0.73056539, 0.72382336, 0.71684145, 0.70981753,\n",
       "       0.70266469, 0.69553199, 0.68102242, 0.6730912 , 0.6730912 ,\n",
       "       0.66501962, 0.65686046, 0.64848709, 0.639776  , 0.62227172,\n",
       "       0.62227172, 0.6039543 , 0.59462978, 0.58515073, 0.57534312,\n",
       "       0.56560594, 0.54650172, 0.53682307, 0.51779554, 0.50806828,\n",
       "       0.49841863, 0.49841863, 0.48802455, 0.47767068, 0.46721409,\n",
       "       0.45677755, 0.44635876, 0.43558581, 0.42496071, 0.4140562 ,\n",
       "       0.40274746, 0.39113731, 0.36839571, 0.35688541, 0.34532811,\n",
       "       0.34532811, 0.3333391 , 0.32122515, 0.3092171 , 0.29738185,\n",
       "       0.28519462, 0.27303737, 0.25982169, 0.24638218, 0.2329731 ,\n",
       "       0.21979976, 0.20652002, 0.19371503, 0.1801255 , 0.16627583,\n",
       "       0.15260734, 0.13922084, 0.12611681, 0.11124974, 0.09751172,\n",
       "       0.07723572, 0.05896367, 0.04365054, 0.02870751, 0.01349537,\n",
       "       0.00141485])"
      ]
     },
     "execution_count": 86,
     "metadata": {},
     "output_type": "execute_result"
    }
   ],
   "source": [
    "pred_surv[0].y"
   ]
  },
  {
   "cell_type": "code",
   "execution_count": 87,
   "metadata": {},
   "outputs": [
    {
     "data": {
      "text/plain": [
       "<matplotlib.legend.Legend at 0x7f7118f44a20>"
      ]
     },
     "execution_count": 87,
     "metadata": {},
     "output_type": "execute_result"
    },
    {
     "data": {
      "image/png": "[encoded data removed]",
      "text/plain": [
       "<matplotlib.figure.Figure at 0x7f7118f44e10>"
      ]
     },
     "metadata": {},
     "output_type": "display_data"
    }
   ],
   "source": [
    "for i, c in enumerate(pred_surv):\n",
    "    plt.step(c.x, c.y, where='post', label='Sample %d'%(i+1))\n",
    "    \n",
    "plt.ylabel('Est. Probability of Survival')\n",
    "plt.xlabel('time $t$')\n",
    "plt.legend(loc='best')"
   ]
  },
  {
   "cell_type": "markdown",
   "metadata": {},
   "source": [
    "Clearly sample 4 has highest risk of death"
   ]
  },
  {
   "cell_type": "markdown",
   "metadata": {},
   "source": [
    "## Predicting Risk Scores\n",
    "\n",
    "predictions are risk scores on an arbitrary scale, which means you can \n",
    "usually only determine the sequence of events, but not their exact time."
   ]
  },
  {
   "cell_type": "code",
   "execution_count": 53,
   "metadata": {},
   "outputs": [],
   "source": [
    "pred_test = estimator.predict(x_new)"
   ]
  },
  {
   "cell_type": "code",
   "execution_count": 64,
   "metadata": {},
   "outputs": [
    {
     "data": {
      "text/plain": [
       "array([-3.41147108, -3.70140696, -2.84492031, -2.55498443])"
      ]
     },
     "execution_count": 64,
     "metadata": {},
     "output_type": "execute_result"
    }
   ],
   "source": [
    "pred_test"
   ]
  },
  {
   "cell_type": "markdown",
   "metadata": {},
   "source": [
    "# Measuring Performance"
   ]
  },
  {
   "cell_type": "markdown",
   "metadata": {},
   "source": [
    "Once we fit a survival model, we usually want to assess how well a model can actually predict survival. Our test data is usually subject to censoring too, therefore metrics like root mean squared error or correlation are unsuitable. Instead, we use generalization of the area under the receiver operating characteristic (ROC) curve called Harrell's concordance index or c-index.\n",
    "\n",
    "The interpretation is identical to the traditional area under the ROC curve metric for binary classification:\n",
    "\n",
    "a value of 0.5 denotes a random model,\n",
    "a value of 1.0 denotes a perfect model,\n",
    "a value of 0.0 denotes a perfectly wrong model."
   ]
  },
  {
   "cell_type": "code",
   "execution_count": 89,
   "metadata": {},
   "outputs": [],
   "source": [
    "from sksurv.metrics import concordance_index_censored\n",
    "\n",
    "prediction = estimator.predict(data_x_numeric)\n",
    "result = concordance_index_censored(data_y['Status'], data_y['Survival_in_days'], prediction)"
   ]
  },
  {
   "cell_type": "code",
   "execution_count": 93,
   "metadata": {},
   "outputs": [
    {
     "data": {
      "text/plain": [
       "0.7362562471603816"
      ]
     },
     "execution_count": 93,
     "metadata": {},
     "output_type": "execute_result"
    }
   ],
   "source": [
    "result[0]"
   ]
  },
  {
   "cell_type": "code",
   "execution_count": 94,
   "metadata": {},
   "outputs": [
    {
     "data": {
      "text/plain": [
       "0.7362562471603816"
      ]
     },
     "execution_count": 94,
     "metadata": {},
     "output_type": "execute_result"
    }
   ],
   "source": [
    "estimator.score(data_x_numeric, data_y)"
   ]
  },
  {
   "cell_type": "markdown",
   "metadata": {},
   "source": [
    "# Feature Selection: Which Variable is Most Predictive?\n"
   ]
  },
  {
   "cell_type": "markdown",
   "metadata": {},
   "source": [
    "The model above considered all available variables for prediction. Next, we want to investigate which single variable is the best risk predictor. Therefore, we fit a Cox model to each variable individually and record the c-index on the training set."
   ]
  },
  {
   "cell_type": "code",
   "execution_count": 95,
   "metadata": {},
   "outputs": [
    {
     "data": {
      "text/plain": [
       "Karnofsky_score          0.709280\n",
       "Celltype=smallcell       0.572581\n",
       "Celltype=large           0.561620\n",
       "Celltype=squamous        0.550545\n",
       "Treatment=test           0.525386\n",
       "Age_in_years             0.515107\n",
       "Months_from_Diagnosis    0.509030\n",
       "Prior_therapy=yes        0.494434\n",
       "dtype: float64"
      ]
     },
     "execution_count": 95,
     "metadata": {},
     "output_type": "execute_result"
    }
   ],
   "source": [
    "import numpy as np\n",
    "\n",
    "def fit_and_score_features(X, y):\n",
    "    n_features = X.shape[1]\n",
    "    scores = np.empty(n_features)\n",
    "    m = CoxPHSurvivalAnalysis()\n",
    "    for j in range(n_features):\n",
    "        Xj = X[:, j:j+1]\n",
    "        m.fit(Xj,y)\n",
    "        scores[j] = m.score(Xj, y)\n",
    "    return scores\n",
    "\n",
    "scores = fit_and_score_features(data_x_numeric.values, data_y)\n",
    "pd.Series(scores, index = data_x_numeric.columns).sort_values(ascending = False)"
   ]
  },
  {
   "cell_type": "markdown",
   "metadata": {},
   "source": [
    "Karnofsky_score is the best variable, whereas Months_from_Diagnosis and Prior_therapy='yes' have almost no predictive power on their own.\n",
    "\n",
    "Next, we want to build a parsimonious model by excluding irrelevant features. We could use the ranking from above, but would need to determine what the optimal cut-off should be. Luckily, scikit-learn has built-in support for performing grid search.\n",
    "\n",
    "First, we create a pipeline that puts all the parts together."
   ]
  },
  {
   "cell_type": "markdown",
   "metadata": {},
   "source": [
    "# Feature Selection using KBest"
   ]
  },
  {
   "cell_type": "code",
   "execution_count": 97,
   "metadata": {},
   "outputs": [],
   "source": [
    "from sklearn.feature_selection import SelectKBest\n",
    "from sklearn.pipeline import Pipeline"
   ]
  },
  {
   "cell_type": "code",
   "execution_count": 99,
   "metadata": {},
   "outputs": [],
   "source": [
    "# Build pipeline\n",
    "\n",
    "pipe = Pipeline(\n",
    "\n",
    "    [\n",
    "        ('encode', OneHotEncoder()),\n",
    "        ('select', SelectKBest(fit_and_score_features, k=3)),\n",
    "        ('model', CoxPHSurvivalAnalysis())\n",
    "        \n",
    "    ]\n",
    "\n",
    ")"
   ]
  },
  {
   "cell_type": "code",
   "execution_count": 100,
   "metadata": {},
   "outputs": [
    {
     "data": {
      "text/plain": [
       "Pipeline(memory=None,\n",
       "     steps=[('encode', OneHotEncoder(allow_drop=True)), ('select', SelectKBest(k=3,\n",
       "      score_func=<function fit_and_score_features at 0x7f7118a956a8>)), ('model', CoxPHSurvivalAnalysis(alpha=0, n_iter=100, tol=1e-09, verbose=0))])"
      ]
     },
     "execution_count": 100,
     "metadata": {},
     "output_type": "execute_result"
    }
   ],
   "source": [
    "pipe"
   ]
  },
  {
   "cell_type": "markdown",
   "metadata": {},
   "source": [
    "Next, we need to define the range of parameters we want to explore during grid search. Here, we want to optimize the parameter k of the SelectKBest class and allow k to vary from 1 feature to all 8 features."
   ]
  },
  {
   "cell_type": "code",
   "execution_count": 101,
   "metadata": {},
   "outputs": [],
   "source": [
    "from sklearn.model_selection import GridSearchCV\n",
    "\n",
    "param_grid = {'select__k': np.arange(1, data_x_numeric.shape[1]+1)}"
   ]
  },
  {
   "cell_type": "code",
   "execution_count": 105,
   "metadata": {},
   "outputs": [],
   "source": [
    "gcv = GridSearchCV(pipe, param_grid)"
   ]
  },
  {
   "cell_type": "code",
   "execution_count": 106,
   "metadata": {},
   "outputs": [
    {
     "data": {
      "text/plain": [
       "GridSearchCV(cv=None, error_score='raise',\n",
       "       estimator=Pipeline(memory=None,\n",
       "     steps=[('encode', OneHotEncoder(allow_drop=True)), ('select', SelectKBest(k=3,\n",
       "      score_func=<function fit_and_score_features at 0x7f7118a956a8>)), ('model', CoxPHSurvivalAnalysis(alpha=0, n_iter=100, tol=1e-09, verbose=0))]),\n",
       "       fit_params=None, iid=True, n_jobs=1,\n",
       "       param_grid={'select__k': array([1, 2, 3, 4, 5, 6, 7, 8])},\n",
       "       pre_dispatch='2*n_jobs', refit=True, return_train_score='warn',\n",
       "       scoring=None, verbose=0)"
      ]
     },
     "execution_count": 106,
     "metadata": {},
     "output_type": "execute_result"
    }
   ],
   "source": [
    "gcv.fit(data_x, data_y)"
   ]
  },
  {
   "cell_type": "code",
   "execution_count": 109,
   "metadata": {},
   "outputs": [
    {
     "name": "stderr",
     "output_type": "stream",
     "text": [
      "/home/jasonchan/anaconda3/lib/python3.6/site-packages/sklearn/utils/deprecation.py:122: FutureWarning: You are accessing a training score ('mean_train_score'), which will not be available by default any more in 0.21. If you need training scores, please set return_train_score=True\n",
      "  warnings.warn(*warn_args, **warn_kwargs)\n",
      "/home/jasonchan/anaconda3/lib/python3.6/site-packages/sklearn/utils/deprecation.py:122: FutureWarning: You are accessing a training score ('split0_train_score'), which will not be available by default any more in 0.21. If you need training scores, please set return_train_score=True\n",
      "  warnings.warn(*warn_args, **warn_kwargs)\n",
      "/home/jasonchan/anaconda3/lib/python3.6/site-packages/sklearn/utils/deprecation.py:122: FutureWarning: You are accessing a training score ('split1_train_score'), which will not be available by default any more in 0.21. If you need training scores, please set return_train_score=True\n",
      "  warnings.warn(*warn_args, **warn_kwargs)\n",
      "/home/jasonchan/anaconda3/lib/python3.6/site-packages/sklearn/utils/deprecation.py:122: FutureWarning: You are accessing a training score ('split2_train_score'), which will not be available by default any more in 0.21. If you need training scores, please set return_train_score=True\n",
      "  warnings.warn(*warn_args, **warn_kwargs)\n",
      "/home/jasonchan/anaconda3/lib/python3.6/site-packages/sklearn/utils/deprecation.py:122: FutureWarning: You are accessing a training score ('std_train_score'), which will not be available by default any more in 0.21. If you need training scores, please set return_train_score=True\n",
      "  warnings.warn(*warn_args, **warn_kwargs)\n"
     ]
    },
    {
     "data": {
      "text/html": [
       "<div>\n",
       "<style scoped>\n",
       "    .dataframe tbody tr th:only-of-type {\n",
       "        vertical-align: middle;\n",
       "    }\n",
       "\n",
       "    .dataframe tbody tr th {\n",
       "        vertical-align: top;\n",
       "    }\n",
       "\n",
       "    .dataframe thead th {\n",
       "        text-align: right;\n",
       "    }\n",
       "</style>\n",
       "<table border=\"1\" class=\"dataframe\">\n",
       "  <thead>\n",
       "    <tr style=\"text-align: right;\">\n",
       "      <th></th>\n",
       "      <th>mean_fit_time</th>\n",
       "      <th>mean_score_time</th>\n",
       "      <th>mean_test_score</th>\n",
       "      <th>mean_train_score</th>\n",
       "      <th>param_select__k</th>\n",
       "      <th>params</th>\n",
       "      <th>rank_test_score</th>\n",
       "      <th>split0_test_score</th>\n",
       "      <th>split0_train_score</th>\n",
       "      <th>split1_test_score</th>\n",
       "      <th>split1_train_score</th>\n",
       "      <th>split2_test_score</th>\n",
       "      <th>split2_train_score</th>\n",
       "      <th>std_fit_time</th>\n",
       "      <th>std_score_time</th>\n",
       "      <th>std_test_score</th>\n",
       "      <th>std_train_score</th>\n",
       "    </tr>\n",
       "  </thead>\n",
       "  <tbody>\n",
       "    <tr>\n",
       "      <th>2</th>\n",
       "      <td>0.110535</td>\n",
       "      <td>0.063072</td>\n",
       "      <td>0.707491</td>\n",
       "      <td>0.725099</td>\n",
       "      <td>3</td>\n",
       "      <td>{'select__k': 3}</td>\n",
       "      <td>1</td>\n",
       "      <td>0.650628</td>\n",
       "      <td>0.765569</td>\n",
       "      <td>0.718220</td>\n",
       "      <td>0.695647</td>\n",
       "      <td>0.754649</td>\n",
       "      <td>0.714082</td>\n",
       "      <td>0.006096</td>\n",
       "      <td>0.081474</td>\n",
       "      <td>0.043067</td>\n",
       "      <td>0.029590</td>\n",
       "    </tr>\n",
       "    <tr>\n",
       "      <th>4</th>\n",
       "      <td>0.110460</td>\n",
       "      <td>0.005819</td>\n",
       "      <td>0.703834</td>\n",
       "      <td>0.733551</td>\n",
       "      <td>5</td>\n",
       "      <td>{'select__k': 5}</td>\n",
       "      <td>2</td>\n",
       "      <td>0.644874</td>\n",
       "      <td>0.783946</td>\n",
       "      <td>0.738347</td>\n",
       "      <td>0.698207</td>\n",
       "      <td>0.728822</td>\n",
       "      <td>0.718498</td>\n",
       "      <td>0.006892</td>\n",
       "      <td>0.000468</td>\n",
       "      <td>0.042098</td>\n",
       "      <td>0.036585</td>\n",
       "    </tr>\n",
       "    <tr>\n",
       "      <th>3</th>\n",
       "      <td>0.110363</td>\n",
       "      <td>0.005552</td>\n",
       "      <td>0.698523</td>\n",
       "      <td>0.722162</td>\n",
       "      <td>4</td>\n",
       "      <td>{'select__k': 4}</td>\n",
       "      <td>3</td>\n",
       "      <td>0.650628</td>\n",
       "      <td>0.768121</td>\n",
       "      <td>0.719809</td>\n",
       "      <td>0.691037</td>\n",
       "      <td>0.725723</td>\n",
       "      <td>0.707327</td>\n",
       "      <td>0.007184</td>\n",
       "      <td>0.000153</td>\n",
       "      <td>0.034138</td>\n",
       "      <td>0.033172</td>\n",
       "    </tr>\n",
       "    <tr>\n",
       "      <th>1</th>\n",
       "      <td>0.110203</td>\n",
       "      <td>0.006141</td>\n",
       "      <td>0.698256</td>\n",
       "      <td>0.715933</td>\n",
       "      <td>2</td>\n",
       "      <td>{'select__k': 2}</td>\n",
       "      <td>4</td>\n",
       "      <td>0.630753</td>\n",
       "      <td>0.758550</td>\n",
       "      <td>0.717161</td>\n",
       "      <td>0.683611</td>\n",
       "      <td>0.747934</td>\n",
       "      <td>0.705638</td>\n",
       "      <td>0.009094</td>\n",
       "      <td>0.000717</td>\n",
       "      <td>0.049604</td>\n",
       "      <td>0.031448</td>\n",
       "    </tr>\n",
       "    <tr>\n",
       "      <th>0</th>\n",
       "      <td>0.121416</td>\n",
       "      <td>0.005532</td>\n",
       "      <td>0.693982</td>\n",
       "      <td>0.705527</td>\n",
       "      <td>1</td>\n",
       "      <td>{'select__k': 1}</td>\n",
       "      <td>5</td>\n",
       "      <td>0.630753</td>\n",
       "      <td>0.744640</td>\n",
       "      <td>0.715042</td>\n",
       "      <td>0.676697</td>\n",
       "      <td>0.737087</td>\n",
       "      <td>0.695246</td>\n",
       "      <td>0.019986</td>\n",
       "      <td>0.000039</td>\n",
       "      <td>0.045843</td>\n",
       "      <td>0.028675</td>\n",
       "    </tr>\n",
       "    <tr>\n",
       "      <th>5</th>\n",
       "      <td>0.111705</td>\n",
       "      <td>0.005784</td>\n",
       "      <td>0.683572</td>\n",
       "      <td>0.732985</td>\n",
       "      <td>6</td>\n",
       "      <td>{'select__k': 6}</td>\n",
       "      <td>6</td>\n",
       "      <td>0.657427</td>\n",
       "      <td>0.783946</td>\n",
       "      <td>0.669492</td>\n",
       "      <td>0.698848</td>\n",
       "      <td>0.724690</td>\n",
       "      <td>0.716160</td>\n",
       "      <td>0.008365</td>\n",
       "      <td>0.000241</td>\n",
       "      <td>0.029179</td>\n",
       "      <td>0.036722</td>\n",
       "    </tr>\n",
       "    <tr>\n",
       "      <th>6</th>\n",
       "      <td>0.115845</td>\n",
       "      <td>0.005923</td>\n",
       "      <td>0.676269</td>\n",
       "      <td>0.732021</td>\n",
       "      <td>7</td>\n",
       "      <td>{'select__k': 7}</td>\n",
       "      <td>7</td>\n",
       "      <td>0.654812</td>\n",
       "      <td>0.788412</td>\n",
       "      <td>0.659958</td>\n",
       "      <td>0.695519</td>\n",
       "      <td>0.714876</td>\n",
       "      <td>0.712133</td>\n",
       "      <td>0.011533</td>\n",
       "      <td>0.000111</td>\n",
       "      <td>0.027083</td>\n",
       "      <td>0.040447</td>\n",
       "    </tr>\n",
       "    <tr>\n",
       "      <th>7</th>\n",
       "      <td>0.114594</td>\n",
       "      <td>0.005795</td>\n",
       "      <td>0.675516</td>\n",
       "      <td>0.731690</td>\n",
       "      <td>8</td>\n",
       "      <td>{'select__k': 8}</td>\n",
       "      <td>8</td>\n",
       "      <td>0.656904</td>\n",
       "      <td>0.786371</td>\n",
       "      <td>0.653602</td>\n",
       "      <td>0.695006</td>\n",
       "      <td>0.716942</td>\n",
       "      <td>0.713692</td>\n",
       "      <td>0.007944</td>\n",
       "      <td>0.000135</td>\n",
       "      <td>0.029004</td>\n",
       "      <td>0.039411</td>\n",
       "    </tr>\n",
       "  </tbody>\n",
       "</table>\n",
       "</div>"
      ],
      "text/plain": [
       "   mean_fit_time  mean_score_time  mean_test_score  mean_train_score  \\\n",
       "2       0.110535         0.063072         0.707491          0.725099   \n",
       "4       0.110460         0.005819         0.703834          0.733551   \n",
       "3       0.110363         0.005552         0.698523          0.722162   \n",
       "1       0.110203         0.006141         0.698256          0.715933   \n",
       "0       0.121416         0.005532         0.693982          0.705527   \n",
       "5       0.111705         0.005784         0.683572          0.732985   \n",
       "6       0.115845         0.005923         0.676269          0.732021   \n",
       "7       0.114594         0.005795         0.675516          0.731690   \n",
       "\n",
       "  param_select__k            params  rank_test_score  split0_test_score  \\\n",
       "2               3  {'select__k': 3}                1           0.650628   \n",
       "4               5  {'select__k': 5}                2           0.644874   \n",
       "3               4  {'select__k': 4}                3           0.650628   \n",
       "1               2  {'select__k': 2}                4           0.630753   \n",
       "0               1  {'select__k': 1}                5           0.630753   \n",
       "5               6  {'select__k': 6}                6           0.657427   \n",
       "6               7  {'select__k': 7}                7           0.654812   \n",
       "7               8  {'select__k': 8}                8           0.656904   \n",
       "\n",
       "   split0_train_score  split1_test_score  split1_train_score  \\\n",
       "2            0.765569           0.718220            0.695647   \n",
       "4            0.783946           0.738347            0.698207   \n",
       "3            0.768121           0.719809            0.691037   \n",
       "1            0.758550           0.717161            0.683611   \n",
       "0            0.744640           0.715042            0.676697   \n",
       "5            0.783946           0.669492            0.698848   \n",
       "6            0.788412           0.659958            0.695519   \n",
       "7            0.786371           0.653602            0.695006   \n",
       "\n",
       "   split2_test_score  split2_train_score  std_fit_time  std_score_time  \\\n",
       "2           0.754649            0.714082      0.006096        0.081474   \n",
       "4           0.728822            0.718498      0.006892        0.000468   \n",
       "3           0.725723            0.707327      0.007184        0.000153   \n",
       "1           0.747934            0.705638      0.009094        0.000717   \n",
       "0           0.737087            0.695246      0.019986        0.000039   \n",
       "5           0.724690            0.716160      0.008365        0.000241   \n",
       "6           0.714876            0.712133      0.011533        0.000111   \n",
       "7           0.716942            0.713692      0.007944        0.000135   \n",
       "\n",
       "   std_test_score  std_train_score  \n",
       "2        0.043067         0.029590  \n",
       "4        0.042098         0.036585  \n",
       "3        0.034138         0.033172  \n",
       "1        0.049604         0.031448  \n",
       "0        0.045843         0.028675  \n",
       "5        0.029179         0.036722  \n",
       "6        0.027083         0.040447  \n",
       "7        0.029004         0.039411  "
      ]
     },
     "execution_count": 109,
     "metadata": {},
     "output_type": "execute_result"
    }
   ],
   "source": [
    "pd.DataFrame(gcv.cv_results_).sort_values(by='mean_test_score', ascending=False)"
   ]
  },
  {
   "cell_type": "code",
   "execution_count": 112,
   "metadata": {},
   "outputs": [
    {
     "data": {
      "text/plain": [
       "Pipeline(memory=None,\n",
       "     steps=[('encode', OneHotEncoder(allow_drop=True)), ('select', SelectKBest(k=3,\n",
       "      score_func=<function fit_and_score_features at 0x7f7118a956a8>)), ('model', CoxPHSurvivalAnalysis(alpha=0, n_iter=100, tol=1e-09, verbose=0))])"
      ]
     },
     "execution_count": 112,
     "metadata": {},
     "output_type": "execute_result"
    }
   ],
   "source": [
    "# predict using best params\n",
    "\n",
    "pipe.set_params(**gcv.best_params_)\n",
    "pipe.fit(data_x, data_y)\n",
    "\n"
   ]
  },
  {
   "cell_type": "code",
   "execution_count": 114,
   "metadata": {},
   "outputs": [],
   "source": [
    "encoder, transformer, final_estimator = [s[1] for s in pipe.steps]\n"
   ]
  },
  {
   "cell_type": "code",
   "execution_count": 115,
   "metadata": {},
   "outputs": [
    {
     "data": {
      "text/plain": [
       "Celltype=large       -0.067277\n",
       "Celltype=smallcell    0.271007\n",
       "Karnofsky_score      -0.031285\n",
       "dtype: float64"
      ]
     },
     "execution_count": 115,
     "metadata": {},
     "output_type": "execute_result"
    }
   ],
   "source": [
    "pd.Series(final_estimator.coef_, index=encoder.encoded_columns_[transformer.get_support()])\n"
   ]
  },
  {
   "cell_type": "code",
   "execution_count": null,
   "metadata": {},
   "outputs": [],
   "source": []
  },
  {
   "cell_type": "code",
   "execution_count": null,
   "metadata": {},
   "outputs": [],
   "source": []
  },
  {
   "cell_type": "code",
   "execution_count": null,
   "metadata": {},
   "outputs": [],
   "source": []
  }
 ],
 "metadata": {
  "kernelspec": {
   "display_name": "Python 3",
   "language": "python",
   "name": "python3"
  },
  "language_info": {
   "codemirror_mode": {
    "name": "ipython",
    "version": 3
   },
   "file_extension": ".py",
   "mimetype": "text/x-python",
   "name": "python",
   "nbconvert_exporter": "python",
   "pygments_lexer": "ipython3",
   "version": "3.6.4"
  }
 },
 "nbformat": 4,
 "nbformat_minor": 2
}
